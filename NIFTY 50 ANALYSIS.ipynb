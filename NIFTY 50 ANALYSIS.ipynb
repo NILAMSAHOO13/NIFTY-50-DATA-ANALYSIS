{
 "cells": [
  {
   "cell_type": "markdown",
   "id": "849c4547",
   "metadata": {},
   "source": [
    "# NIFTY 50 ANALYSIS "
   ]
  },
  {
   "cell_type": "code",
   "execution_count": 2,
   "id": "dc78c962",
   "metadata": {},
   "outputs": [],
   "source": [
    "#import package for analysis\n",
    "import pandas as pd\n",
    "import numpy as np\n",
    "import seaborn as sns\n",
    "import matplotlib.pyplot as plt\n"
   ]
  },
  {
   "cell_type": "code",
   "execution_count": 5,
   "id": "f577cbf1",
   "metadata": {},
   "outputs": [],
   "source": [
    "nifty=pd.read_csv(\"C:/Users/user/Desktop/National_Stock_Exchange_of_India_Ltd(1).csv\")"
   ]
  },
  {
   "cell_type": "code",
   "execution_count": 6,
   "id": "c7e76de7",
   "metadata": {},
   "outputs": [
    {
     "data": {
      "text/html": [
       "<div>\n",
       "<style scoped>\n",
       "    .dataframe tbody tr th:only-of-type {\n",
       "        vertical-align: middle;\n",
       "    }\n",
       "\n",
       "    .dataframe tbody tr th {\n",
       "        vertical-align: top;\n",
       "    }\n",
       "\n",
       "    .dataframe thead th {\n",
       "        text-align: right;\n",
       "    }\n",
       "</style>\n",
       "<table border=\"1\" class=\"dataframe\">\n",
       "  <thead>\n",
       "    <tr style=\"text-align: right;\">\n",
       "      <th></th>\n",
       "      <th>Symbol</th>\n",
       "      <th>Open</th>\n",
       "      <th>High</th>\n",
       "      <th>Low</th>\n",
       "      <th>LTP</th>\n",
       "      <th>Chng</th>\n",
       "      <th>% Chng</th>\n",
       "      <th>Volume (lacs)</th>\n",
       "      <th>Turnover (crs.)</th>\n",
       "      <th>52w H</th>\n",
       "      <th>52w L</th>\n",
       "      <th>365 d % chng</th>\n",
       "      <th>30 d % chng</th>\n",
       "    </tr>\n",
       "  </thead>\n",
       "  <tbody>\n",
       "    <tr>\n",
       "      <th>0</th>\n",
       "      <td>ADANIPORTS</td>\n",
       "      <td>750</td>\n",
       "      <td>766</td>\n",
       "      <td>713.25</td>\n",
       "      <td>715</td>\n",
       "      <td>-47.45</td>\n",
       "      <td>-6.22</td>\n",
       "      <td>72.20</td>\n",
       "      <td>532.63</td>\n",
       "      <td>901</td>\n",
       "      <td>384.4</td>\n",
       "      <td>79.22</td>\n",
       "      <td>-4.65</td>\n",
       "    </tr>\n",
       "    <tr>\n",
       "      <th>1</th>\n",
       "      <td>ASIANPAINT</td>\n",
       "      <td>3,101.00</td>\n",
       "      <td>3,167.35</td>\n",
       "      <td>3,091.00</td>\n",
       "      <td>3,138.00</td>\n",
       "      <td>-6.25</td>\n",
       "      <td>-0.20</td>\n",
       "      <td>10.29</td>\n",
       "      <td>322.53</td>\n",
       "      <td>3,505.00</td>\n",
       "      <td>2,117.15</td>\n",
       "      <td>45.66</td>\n",
       "      <td>5.66</td>\n",
       "    </tr>\n",
       "    <tr>\n",
       "      <th>2</th>\n",
       "      <td>AXISBANK</td>\n",
       "      <td>669</td>\n",
       "      <td>674.9</td>\n",
       "      <td>660.45</td>\n",
       "      <td>661</td>\n",
       "      <td>-18.90</td>\n",
       "      <td>-2.78</td>\n",
       "      <td>102.53</td>\n",
       "      <td>684</td>\n",
       "      <td>866.9</td>\n",
       "      <td>568.4</td>\n",
       "      <td>10.19</td>\n",
       "      <td>-21.49</td>\n",
       "    </tr>\n",
       "    <tr>\n",
       "      <th>3</th>\n",
       "      <td>BAJAJ-AUTO</td>\n",
       "      <td>3,370.00</td>\n",
       "      <td>3,383.50</td>\n",
       "      <td>3,320.00</td>\n",
       "      <td>3,335.00</td>\n",
       "      <td>-56.70</td>\n",
       "      <td>-1.67</td>\n",
       "      <td>3.42</td>\n",
       "      <td>114.59</td>\n",
       "      <td>4,361.40</td>\n",
       "      <td>3,041.00</td>\n",
       "      <td>9.30</td>\n",
       "      <td>-12.05</td>\n",
       "    </tr>\n",
       "    <tr>\n",
       "      <th>4</th>\n",
       "      <td>BAJAJFINSV</td>\n",
       "      <td>17,200.00</td>\n",
       "      <td>17,237.20</td>\n",
       "      <td>16,610.00</td>\n",
       "      <td>16,684.00</td>\n",
       "      <td>-684.85</td>\n",
       "      <td>-3.94</td>\n",
       "      <td>3.42</td>\n",
       "      <td>576.79</td>\n",
       "      <td>19,325.00</td>\n",
       "      <td>8,273.70</td>\n",
       "      <td>91.38</td>\n",
       "      <td>-9.10</td>\n",
       "    </tr>\n",
       "  </tbody>\n",
       "</table>\n",
       "</div>"
      ],
      "text/plain": [
       "       Symbol       Open       High        Low        LTP    Chng  % Chng  \\\n",
       "0  ADANIPORTS        750        766     713.25        715  -47.45   -6.22   \n",
       "1  ASIANPAINT   3,101.00   3,167.35   3,091.00   3,138.00   -6.25   -0.20   \n",
       "2    AXISBANK        669      674.9     660.45        661  -18.90   -2.78   \n",
       "3  BAJAJ-AUTO   3,370.00   3,383.50   3,320.00   3,335.00  -56.70   -1.67   \n",
       "4  BAJAJFINSV  17,200.00  17,237.20  16,610.00  16,684.00 -684.85   -3.94   \n",
       "\n",
       "   Volume (lacs) Turnover (crs.)      52w H     52w L  365 d % chng  \\\n",
       "0          72.20          532.63        901     384.4         79.22   \n",
       "1          10.29          322.53   3,505.00  2,117.15         45.66   \n",
       "2         102.53             684      866.9     568.4         10.19   \n",
       "3           3.42          114.59   4,361.40  3,041.00          9.30   \n",
       "4           3.42          576.79  19,325.00  8,273.70         91.38   \n",
       "\n",
       "   30 d % chng  \n",
       "0        -4.65  \n",
       "1         5.66  \n",
       "2       -21.49  \n",
       "3       -12.05  \n",
       "4        -9.10  "
      ]
     },
     "execution_count": 6,
     "metadata": {},
     "output_type": "execute_result"
    }
   ],
   "source": [
    "#understanding the data\n",
    "nifty.head()"
   ]
  },
  {
   "cell_type": "code",
   "execution_count": 19,
   "id": "ce77a581",
   "metadata": {
    "scrolled": true
   },
   "outputs": [
    {
     "data": {
      "text/html": [
       "<div>\n",
       "<style scoped>\n",
       "    .dataframe tbody tr th:only-of-type {\n",
       "        vertical-align: middle;\n",
       "    }\n",
       "\n",
       "    .dataframe tbody tr th {\n",
       "        vertical-align: top;\n",
       "    }\n",
       "\n",
       "    .dataframe thead th {\n",
       "        text-align: right;\n",
       "    }\n",
       "</style>\n",
       "<table border=\"1\" class=\"dataframe\">\n",
       "  <thead>\n",
       "    <tr style=\"text-align: right;\">\n",
       "      <th></th>\n",
       "      <th>Symbol</th>\n",
       "      <th>Open</th>\n",
       "      <th>High</th>\n",
       "      <th>Low</th>\n",
       "      <th>LTP</th>\n",
       "      <th>Chng</th>\n",
       "      <th>% Chng</th>\n",
       "      <th>Volume (lacs)</th>\n",
       "      <th>Turnover (crs.)</th>\n",
       "      <th>52w H</th>\n",
       "      <th>52w L</th>\n",
       "      <th>365 d % chng</th>\n",
       "      <th>30 d % chng</th>\n",
       "    </tr>\n",
       "  </thead>\n",
       "  <tbody>\n",
       "    <tr>\n",
       "      <th>45</th>\n",
       "      <td>TECHM</td>\n",
       "      <td>1,544.00</td>\n",
       "      <td>1,550.00</td>\n",
       "      <td>1,510.15</td>\n",
       "      <td>1,519.00</td>\n",
       "      <td>-40.35</td>\n",
       "      <td>-2.59</td>\n",
       "      <td>15.22</td>\n",
       "      <td>232.97</td>\n",
       "      <td>1,630.00</td>\n",
       "      <td>846.7</td>\n",
       "      <td>76.17</td>\n",
       "      <td>-2.83</td>\n",
       "    </tr>\n",
       "    <tr>\n",
       "      <th>46</th>\n",
       "      <td>TITAN</td>\n",
       "      <td>2,377.80</td>\n",
       "      <td>2,385.10</td>\n",
       "      <td>2,285.05</td>\n",
       "      <td>2,293.00</td>\n",
       "      <td>-104.80</td>\n",
       "      <td>-4.37</td>\n",
       "      <td>12.89</td>\n",
       "      <td>298.54</td>\n",
       "      <td>2,677.90</td>\n",
       "      <td>1,300.35</td>\n",
       "      <td>75.45</td>\n",
       "      <td>-6.59</td>\n",
       "    </tr>\n",
       "    <tr>\n",
       "      <th>47</th>\n",
       "      <td>ULTRACEMCO</td>\n",
       "      <td>7,550.00</td>\n",
       "      <td>7,599.00</td>\n",
       "      <td>7,370.10</td>\n",
       "      <td>7,398.45</td>\n",
       "      <td>-210.35</td>\n",
       "      <td>-2.76</td>\n",
       "      <td>2.66</td>\n",
       "      <td>198.32</td>\n",
       "      <td>8,269.00</td>\n",
       "      <td>4,770.00</td>\n",
       "      <td>53.50</td>\n",
       "      <td>1.78</td>\n",
       "    </tr>\n",
       "    <tr>\n",
       "      <th>48</th>\n",
       "      <td>UPL</td>\n",
       "      <td>726</td>\n",
       "      <td>726</td>\n",
       "      <td>701</td>\n",
       "      <td>703.5</td>\n",
       "      <td>-23.80</td>\n",
       "      <td>-3.27</td>\n",
       "      <td>24.82</td>\n",
       "      <td>176.35</td>\n",
       "      <td>864.7</td>\n",
       "      <td>414.15</td>\n",
       "      <td>68.06</td>\n",
       "      <td>-1.37</td>\n",
       "    </tr>\n",
       "    <tr>\n",
       "      <th>49</th>\n",
       "      <td>WIPRO</td>\n",
       "      <td>632</td>\n",
       "      <td>634.4</td>\n",
       "      <td>619.65</td>\n",
       "      <td>621.3</td>\n",
       "      <td>-15.40</td>\n",
       "      <td>-2.42</td>\n",
       "      <td>41.39</td>\n",
       "      <td>259.37</td>\n",
       "      <td>739.85</td>\n",
       "      <td>346.25</td>\n",
       "      <td>77.51</td>\n",
       "      <td>-7.01</td>\n",
       "    </tr>\n",
       "  </tbody>\n",
       "</table>\n",
       "</div>"
      ],
      "text/plain": [
       "        Symbol      Open      High       Low       LTP    Chng  % Chng  \\\n",
       "45       TECHM  1,544.00  1,550.00  1,510.15  1,519.00  -40.35   -2.59   \n",
       "46       TITAN  2,377.80  2,385.10  2,285.05  2,293.00 -104.80   -4.37   \n",
       "47  ULTRACEMCO  7,550.00  7,599.00  7,370.10  7,398.45 -210.35   -2.76   \n",
       "48         UPL       726       726       701     703.5  -23.80   -3.27   \n",
       "49       WIPRO       632     634.4    619.65     621.3  -15.40   -2.42   \n",
       "\n",
       "    Volume (lacs) Turnover (crs.)     52w H     52w L  365 d % chng  \\\n",
       "45          15.22          232.97  1,630.00     846.7         76.17   \n",
       "46          12.89          298.54  2,677.90  1,300.35         75.45   \n",
       "47           2.66          198.32  8,269.00  4,770.00         53.50   \n",
       "48          24.82          176.35     864.7    414.15         68.06   \n",
       "49          41.39          259.37    739.85    346.25         77.51   \n",
       "\n",
       "    30 d % chng  \n",
       "45        -2.83  \n",
       "46        -6.59  \n",
       "47         1.78  \n",
       "48        -1.37  \n",
       "49        -7.01  "
      ]
     },
     "execution_count": 19,
     "metadata": {},
     "output_type": "execute_result"
    }
   ],
   "source": [
    "nifty.tail()"
   ]
  },
  {
   "cell_type": "code",
   "execution_count": 25,
   "id": "64ed6d78",
   "metadata": {},
   "outputs": [
    {
     "data": {
      "text/html": [
       "<div>\n",
       "<style scoped>\n",
       "    .dataframe tbody tr th:only-of-type {\n",
       "        vertical-align: middle;\n",
       "    }\n",
       "\n",
       "    .dataframe tbody tr th {\n",
       "        vertical-align: top;\n",
       "    }\n",
       "\n",
       "    .dataframe thead th {\n",
       "        text-align: right;\n",
       "    }\n",
       "</style>\n",
       "<table border=\"1\" class=\"dataframe\">\n",
       "  <thead>\n",
       "    <tr style=\"text-align: right;\">\n",
       "      <th></th>\n",
       "      <th>Chng</th>\n",
       "      <th>% Chng</th>\n",
       "      <th>Volume (lacs)</th>\n",
       "      <th>365 d % chng</th>\n",
       "      <th>30 d % chng</th>\n",
       "    </tr>\n",
       "  </thead>\n",
       "  <tbody>\n",
       "    <tr>\n",
       "      <th>count</th>\n",
       "      <td>50.000000</td>\n",
       "      <td>50.000000</td>\n",
       "      <td>50.000000</td>\n",
       "      <td>50.000000</td>\n",
       "      <td>50.000000</td>\n",
       "    </tr>\n",
       "    <tr>\n",
       "      <th>mean</th>\n",
       "      <td>-70.133000</td>\n",
       "      <td>-2.930200</td>\n",
       "      <td>71.266600</td>\n",
       "      <td>41.203000</td>\n",
       "      <td>-5.996800</td>\n",
       "    </tr>\n",
       "    <tr>\n",
       "      <th>std</th>\n",
       "      <td>163.203678</td>\n",
       "      <td>2.677007</td>\n",
       "      <td>93.462062</td>\n",
       "      <td>37.358646</td>\n",
       "      <td>6.322546</td>\n",
       "    </tr>\n",
       "    <tr>\n",
       "      <th>min</th>\n",
       "      <td>-770.500000</td>\n",
       "      <td>-7.480000</td>\n",
       "      <td>0.300000</td>\n",
       "      <td>-16.020000</td>\n",
       "      <td>-22.080000</td>\n",
       "    </tr>\n",
       "    <tr>\n",
       "      <th>25%</th>\n",
       "      <td>-66.775000</td>\n",
       "      <td>-4.527500</td>\n",
       "      <td>13.472500</td>\n",
       "      <td>9.375000</td>\n",
       "      <td>-9.665000</td>\n",
       "    </tr>\n",
       "    <tr>\n",
       "      <th>50%</th>\n",
       "      <td>-29.975000</td>\n",
       "      <td>-3.300000</td>\n",
       "      <td>30.750000</td>\n",
       "      <td>35.860000</td>\n",
       "      <td>-5.705000</td>\n",
       "    </tr>\n",
       "    <tr>\n",
       "      <th>75%</th>\n",
       "      <td>-7.812500</td>\n",
       "      <td>-1.932500</td>\n",
       "      <td>99.200000</td>\n",
       "      <td>65.942500</td>\n",
       "      <td>-2.222500</td>\n",
       "    </tr>\n",
       "    <tr>\n",
       "      <th>max</th>\n",
       "      <td>158.400000</td>\n",
       "      <td>7.230000</td>\n",
       "      <td>517.880000</td>\n",
       "      <td>167.950000</td>\n",
       "      <td>6.360000</td>\n",
       "    </tr>\n",
       "  </tbody>\n",
       "</table>\n",
       "</div>"
      ],
      "text/plain": [
       "             Chng     % Chng  Volume (lacs)  365 d % chng  30 d % chng\n",
       "count   50.000000  50.000000      50.000000     50.000000    50.000000\n",
       "mean   -70.133000  -2.930200      71.266600     41.203000    -5.996800\n",
       "std    163.203678   2.677007      93.462062     37.358646     6.322546\n",
       "min   -770.500000  -7.480000       0.300000    -16.020000   -22.080000\n",
       "25%    -66.775000  -4.527500      13.472500      9.375000    -9.665000\n",
       "50%    -29.975000  -3.300000      30.750000     35.860000    -5.705000\n",
       "75%     -7.812500  -1.932500      99.200000     65.942500    -2.222500\n",
       "max    158.400000   7.230000     517.880000    167.950000     6.360000"
      ]
     },
     "execution_count": 25,
     "metadata": {},
     "output_type": "execute_result"
    }
   ],
   "source": [
    "nifty.describe()"
   ]
  },
  {
   "cell_type": "code",
   "execution_count": 26,
   "id": "cc6faf57",
   "metadata": {},
   "outputs": [
    {
     "data": {
      "text/plain": [
       "Index(['Symbol', 'Open', 'High', 'Low', 'LTP', 'Chng', '% Chng',\n",
       "       'Volume (lacs)', 'Turnover (crs.)', '52w H', '52w L', '365 d % chng',\n",
       "       '30 d % chng'],\n",
       "      dtype='object')"
      ]
     },
     "execution_count": 26,
     "metadata": {},
     "output_type": "execute_result"
    }
   ],
   "source": [
    "nifty.columns"
   ]
  },
  {
   "cell_type": "code",
   "execution_count": 29,
   "id": "4c6bd7af",
   "metadata": {},
   "outputs": [
    {
     "data": {
      "text/plain": [
       "Symbol             50\n",
       "Open               50\n",
       "High               50\n",
       "Low                50\n",
       "LTP                50\n",
       "Chng               50\n",
       "% Chng             48\n",
       "Volume (lacs)      49\n",
       "Turnover (crs.)    50\n",
       "52w H              50\n",
       "52w L              50\n",
       "365 d % chng       50\n",
       "30 d % chng        50\n",
       "dtype: int64"
      ]
     },
     "execution_count": 29,
     "metadata": {},
     "output_type": "execute_result"
    }
   ],
   "source": [
    "nifty.nunique()"
   ]
  },
  {
   "cell_type": "code",
   "execution_count": 30,
   "id": "fe90b661",
   "metadata": {},
   "outputs": [
    {
     "data": {
      "text/plain": [
       "array(['ADANIPORTS', 'ASIANPAINT', 'AXISBANK', 'BAJAJ-AUTO', 'BAJAJFINSV',\n",
       "       'BAJFINANCE', 'BHARTIARTL', 'BPCL', 'BRITANNIA', 'CIPLA',\n",
       "       'COALINDIA', 'DIVISLAB', 'DRREDDY', 'EICHERMOT', 'GRASIM',\n",
       "       'HCLTECH', 'HDFC', 'HDFCBANK', 'HDFCLIFE', 'HEROMOTOCO',\n",
       "       'HINDALCO', 'HINDUNILVR', 'ICICIBANK', 'INDUSINDBK', 'INFY', 'IOC',\n",
       "       'ITC', 'JSWSTEEL', 'KOTAKBANK', 'LT', 'M&M', 'MARUTI', 'NESTLEIND',\n",
       "       'NTPC', 'ONGC', 'POWERGRID', 'RELIANCE', 'SBILIFE', 'SBIN',\n",
       "       'SHREECEM', 'SUNPHARMA', 'TATACONSUM', 'TATAMOTORS', 'TATASTEEL',\n",
       "       'TCS', 'TECHM', 'TITAN', 'ULTRACEMCO', 'UPL', 'WIPRO'],\n",
       "      dtype=object)"
      ]
     },
     "execution_count": 30,
     "metadata": {},
     "output_type": "execute_result"
    }
   ],
   "source": [
    "nifty['Symbol'].unique()"
   ]
  },
  {
   "cell_type": "code",
   "execution_count": 34,
   "id": "01f14c00",
   "metadata": {},
   "outputs": [
    {
     "data": {
      "text/plain": [
       "array([ 79.22,  45.66,  10.19,   9.3 ,  91.38,  44.57,  58.55,  -1.22,\n",
       "         0.3 ,  31.89,  25.78,  42.39,  -1.17,  -5.95,  99.95,  34.79,\n",
       "        25.27,   6.18,   0.7 , -16.02,  86.93,   9.6 ,  52.41,   5.25,\n",
       "        51.44,  41.28,  15.35,  86.25,   5.24,  59.59,  18.77,   1.34,\n",
       "         9.87,  36.93,  82.86,   3.69,  23.48,  33.19,  93.42,   9.29,\n",
       "        51.57,  49.55, 167.95, 105.13,  27.32,  76.17,  75.45,  53.5 ,\n",
       "        68.06,  77.51])"
      ]
     },
     "execution_count": 34,
     "metadata": {},
     "output_type": "execute_result"
    }
   ],
   "source": [
    "nifty['365 d % chng'].unique()\n"
   ]
  },
  {
   "cell_type": "code",
   "execution_count": 36,
   "id": "cf09fdac",
   "metadata": {},
   "outputs": [
    {
     "data": {
      "text/plain": [
       "Symbol              object\n",
       "Open                object\n",
       "High                object\n",
       "Low                 object\n",
       "LTP                 object\n",
       "Chng               float64\n",
       "% Chng             float64\n",
       "Volume (lacs)      float64\n",
       "Turnover (crs.)     object\n",
       "52w H               object\n",
       "52w L               object\n",
       "365 d % chng       float64\n",
       "30 d % chng        float64\n",
       "dtype: object"
      ]
     },
     "execution_count": 36,
     "metadata": {},
     "output_type": "execute_result"
    }
   ],
   "source": [
    "nifty.dtypes"
   ]
  },
  {
   "cell_type": "code",
   "execution_count": 37,
   "id": "d19b1102",
   "metadata": {},
   "outputs": [
    {
     "name": "stdout",
     "output_type": "stream",
     "text": [
      "<class 'pandas.core.frame.DataFrame'>\n",
      "RangeIndex: 50 entries, 0 to 49\n",
      "Data columns (total 13 columns):\n",
      " #   Column           Non-Null Count  Dtype  \n",
      "---  ------           --------------  -----  \n",
      " 0   Symbol           50 non-null     object \n",
      " 1   Open             50 non-null     object \n",
      " 2   High             50 non-null     object \n",
      " 3   Low              50 non-null     object \n",
      " 4   LTP              50 non-null     object \n",
      " 5   Chng             50 non-null     float64\n",
      " 6   % Chng           50 non-null     float64\n",
      " 7   Volume (lacs)    50 non-null     float64\n",
      " 8   Turnover (crs.)  50 non-null     object \n",
      " 9   52w H            50 non-null     object \n",
      " 10  52w L            50 non-null     object \n",
      " 11  365 d % chng     50 non-null     float64\n",
      " 12  30 d % chng      50 non-null     float64\n",
      "dtypes: float64(5), object(8)\n",
      "memory usage: 5.2+ KB\n"
     ]
    }
   ],
   "source": [
    "nifty.info()"
   ]
  },
  {
   "cell_type": "markdown",
   "id": "54f12d74",
   "metadata": {},
   "source": [
    "# cleaning the dataset"
   ]
  },
  {
   "cell_type": "code",
   "execution_count": 39,
   "id": "77674cb0",
   "metadata": {},
   "outputs": [
    {
     "data": {
      "text/plain": [
       "Symbol             0\n",
       "Open               0\n",
       "High               0\n",
       "Low                0\n",
       "LTP                0\n",
       "Chng               0\n",
       "% Chng             0\n",
       "Volume (lacs)      0\n",
       "Turnover (crs.)    0\n",
       "52w H              0\n",
       "52w L              0\n",
       "365 d % chng       0\n",
       "30 d % chng        0\n",
       "dtype: int64"
      ]
     },
     "execution_count": 39,
     "metadata": {},
     "output_type": "execute_result"
    }
   ],
   "source": [
    "nifty.isnull().sum()"
   ]
  },
  {
   "cell_type": "code",
   "execution_count": null,
   "id": "71df0aa7",
   "metadata": {},
   "outputs": [],
   "source": [
    "#data doesnot containg any null value or any major duplicate value \n"
   ]
  },
  {
   "cell_type": "code",
   "execution_count": null,
   "id": "29b6fad4",
   "metadata": {},
   "outputs": [],
   "source": [
    "#corelation analysis"
   ]
  },
  {
   "cell_type": "code",
   "execution_count": 5,
   "id": "75149498",
   "metadata": {},
   "outputs": [],
   "source": [
    "corelation=nifty.corr()"
   ]
  },
  {
   "cell_type": "code",
   "execution_count": 6,
   "id": "5f2c88e0",
   "metadata": {},
   "outputs": [
    {
     "data": {
      "text/html": [
       "<div>\n",
       "<style scoped>\n",
       "    .dataframe tbody tr th:only-of-type {\n",
       "        vertical-align: middle;\n",
       "    }\n",
       "\n",
       "    .dataframe tbody tr th {\n",
       "        vertical-align: top;\n",
       "    }\n",
       "\n",
       "    .dataframe thead th {\n",
       "        text-align: right;\n",
       "    }\n",
       "</style>\n",
       "<table border=\"1\" class=\"dataframe\">\n",
       "  <thead>\n",
       "    <tr style=\"text-align: right;\">\n",
       "      <th></th>\n",
       "      <th>Chng</th>\n",
       "      <th>% Chng</th>\n",
       "      <th>Volume (lacs)</th>\n",
       "      <th>365 d % chng</th>\n",
       "      <th>30 d % chng</th>\n",
       "    </tr>\n",
       "  </thead>\n",
       "  <tbody>\n",
       "    <tr>\n",
       "      <th>Chng</th>\n",
       "      <td>1.000000</td>\n",
       "      <td>0.314513</td>\n",
       "      <td>0.208215</td>\n",
       "      <td>-0.038896</td>\n",
       "      <td>0.149898</td>\n",
       "    </tr>\n",
       "    <tr>\n",
       "      <th>% Chng</th>\n",
       "      <td>0.314513</td>\n",
       "      <td>1.000000</td>\n",
       "      <td>-0.273596</td>\n",
       "      <td>-0.393705</td>\n",
       "      <td>0.560149</td>\n",
       "    </tr>\n",
       "    <tr>\n",
       "      <th>Volume (lacs)</th>\n",
       "      <td>0.208215</td>\n",
       "      <td>-0.273596</td>\n",
       "      <td>1.000000</td>\n",
       "      <td>0.490092</td>\n",
       "      <td>-0.245722</td>\n",
       "    </tr>\n",
       "    <tr>\n",
       "      <th>365 d % chng</th>\n",
       "      <td>-0.038896</td>\n",
       "      <td>-0.393705</td>\n",
       "      <td>0.490092</td>\n",
       "      <td>1.000000</td>\n",
       "      <td>-0.083572</td>\n",
       "    </tr>\n",
       "    <tr>\n",
       "      <th>30 d % chng</th>\n",
       "      <td>0.149898</td>\n",
       "      <td>0.560149</td>\n",
       "      <td>-0.245722</td>\n",
       "      <td>-0.083572</td>\n",
       "      <td>1.000000</td>\n",
       "    </tr>\n",
       "  </tbody>\n",
       "</table>\n",
       "</div>"
      ],
      "text/plain": [
       "                   Chng    % Chng  Volume (lacs)  365 d % chng  30 d % chng\n",
       "Chng           1.000000  0.314513       0.208215     -0.038896     0.149898\n",
       "% Chng         0.314513  1.000000      -0.273596     -0.393705     0.560149\n",
       "Volume (lacs)  0.208215 -0.273596       1.000000      0.490092    -0.245722\n",
       "365 d % chng  -0.038896 -0.393705       0.490092      1.000000    -0.083572\n",
       "30 d % chng    0.149898  0.560149      -0.245722     -0.083572     1.000000"
      ]
     },
     "execution_count": 6,
     "metadata": {},
     "output_type": "execute_result"
    }
   ],
   "source": [
    "corelation"
   ]
  },
  {
   "cell_type": "code",
   "execution_count": 9,
   "id": "cc4d389e",
   "metadata": {},
   "outputs": [
    {
     "data": {
      "text/plain": [
       "<AxesSubplot:>"
      ]
     },
     "execution_count": 9,
     "metadata": {},
     "output_type": "execute_result"
    },
    {
     "data": {
      "image/png": "[encoded data removed]",
      "text/plain": [
       "<Figure size 432x288 with 2 Axes>"
      ]
     },
     "metadata": {
      "needs_background": "light"
     },
     "output_type": "display_data"
    }
   ],
   "source": [
    "sns.heatmap(corelation,xticklabels=corelation.columns,yticklabels=corelation.columns,annot=True)"
   ]
  },
  {
   "cell_type": "code",
   "execution_count": 38,
   "id": "2685a99b",
   "metadata": {},
   "outputs": [
    {
     "data": {
      "text/plain": [
       "<seaborn.axisgrid.PairGrid at 0x1bbb2c5ffd0>"
      ]
     },
     "execution_count": 38,
     "metadata": {},
     "output_type": "execute_result"
    },
    {
     "data": {
      "image/png": "[encoded data removed]",
      "text/plain": [
       "<Figure size 900x900 with 30 Axes>"
      ]
     },
     "metadata": {
      "needs_background": "light"
     },
     "output_type": "display_data"
    }
   ],
   "source": [
    "sns.pairplot(nifty)"
   ]
  },
  {
   "cell_type": "code",
   "execution_count": 50,
   "id": "2a1e47d4",
   "metadata": {},
   "outputs": [
    {
     "ename": "ValueError",
     "evalue": "The following variable cannot be assigned with wide-form data: `hue`",
     "output_type": "error",
     "traceback": [
      "\u001b[1;31m---------------------------------------------------------------------------\u001b[0m",
      "\u001b[1;31mValueError\u001b[0m                                Traceback (most recent call last)",
      "Input \u001b[1;32mIn [50]\u001b[0m, in \u001b[0;36m<cell line: 2>\u001b[1;34m()\u001b[0m\n\u001b[0;32m      1\u001b[0m \u001b[38;5;66;03m#making the scaterplot \u001b[39;00m\n\u001b[1;32m----> 2\u001b[0m \u001b[43msns\u001b[49m\u001b[38;5;241;43m.\u001b[39;49m\u001b[43mrelplot\u001b[49m\u001b[43m(\u001b[49m\u001b[43mX\u001b[49m\u001b[38;5;241;43m=\u001b[39;49m\u001b[38;5;124;43m'\u001b[39;49m\u001b[38;5;124;43m%\u001b[39;49m\u001b[38;5;124;43m Chng \u001b[39;49m\u001b[38;5;124;43m'\u001b[39;49m\u001b[43m,\u001b[49m\u001b[43mY\u001b[49m\u001b[38;5;241;43m=\u001b[39;49m\u001b[38;5;124;43m'\u001b[39;49m\u001b[38;5;124;43mVolume (lacs)\u001b[39;49m\u001b[38;5;124;43m'\u001b[39;49m\u001b[43m,\u001b[49m\u001b[43mhue\u001b[49m\u001b[38;5;241;43m=\u001b[39;49m\u001b[38;5;124;43m'\u001b[39;49m\u001b[38;5;124;43msymbol\u001b[39;49m\u001b[38;5;124;43m'\u001b[39;49m\u001b[43m,\u001b[49m\u001b[43mdata\u001b[49m\u001b[38;5;241;43m=\u001b[39;49m\u001b[43mnifty\u001b[49m\u001b[43m)\u001b[49m\n",
      "File \u001b[1;32m~\\anaconda3\\lib\\site-packages\\seaborn\\_decorators.py:46\u001b[0m, in \u001b[0;36m_deprecate_positional_args.<locals>.inner_f\u001b[1;34m(*args, **kwargs)\u001b[0m\n\u001b[0;32m     36\u001b[0m     warnings\u001b[38;5;241m.\u001b[39mwarn(\n\u001b[0;32m     37\u001b[0m         \u001b[38;5;124m\"\u001b[39m\u001b[38;5;124mPass the following variable\u001b[39m\u001b[38;5;132;01m{}\u001b[39;00m\u001b[38;5;124m as \u001b[39m\u001b[38;5;132;01m{}\u001b[39;00m\u001b[38;5;124mkeyword arg\u001b[39m\u001b[38;5;132;01m{}\u001b[39;00m\u001b[38;5;124m: \u001b[39m\u001b[38;5;132;01m{}\u001b[39;00m\u001b[38;5;124m. \u001b[39m\u001b[38;5;124m\"\u001b[39m\n\u001b[0;32m     38\u001b[0m         \u001b[38;5;124m\"\u001b[39m\u001b[38;5;124mFrom version 0.12, the only valid positional argument \u001b[39m\u001b[38;5;124m\"\u001b[39m\n\u001b[1;32m   (...)\u001b[0m\n\u001b[0;32m     43\u001b[0m         \u001b[38;5;167;01mFutureWarning\u001b[39;00m\n\u001b[0;32m     44\u001b[0m     )\n\u001b[0;32m     45\u001b[0m kwargs\u001b[38;5;241m.\u001b[39mupdate({k: arg \u001b[38;5;28;01mfor\u001b[39;00m k, arg \u001b[38;5;129;01min\u001b[39;00m \u001b[38;5;28mzip\u001b[39m(sig\u001b[38;5;241m.\u001b[39mparameters, args)})\n\u001b[1;32m---> 46\u001b[0m \u001b[38;5;28;01mreturn\u001b[39;00m f(\u001b[38;5;241m*\u001b[39m\u001b[38;5;241m*\u001b[39mkwargs)\n",
      "File \u001b[1;32m~\\anaconda3\\lib\\site-packages\\seaborn\\relational.py:947\u001b[0m, in \u001b[0;36mrelplot\u001b[1;34m(x, y, hue, size, style, data, row, col, col_wrap, row_order, col_order, palette, hue_order, hue_norm, sizes, size_order, size_norm, markers, dashes, style_order, legend, kind, height, aspect, facet_kws, units, **kwargs)\u001b[0m\n\u001b[0;32m    944\u001b[0m     kwargs\u001b[38;5;241m.\u001b[39mpop(\u001b[38;5;124m\"\u001b[39m\u001b[38;5;124max\u001b[39m\u001b[38;5;124m\"\u001b[39m)\n\u001b[0;32m    946\u001b[0m \u001b[38;5;66;03m# Use the full dataset to map the semantics\u001b[39;00m\n\u001b[1;32m--> 947\u001b[0m p \u001b[38;5;241m=\u001b[39m \u001b[43mplotter\u001b[49m\u001b[43m(\u001b[49m\n\u001b[0;32m    948\u001b[0m \u001b[43m    \u001b[49m\u001b[43mdata\u001b[49m\u001b[38;5;241;43m=\u001b[39;49m\u001b[43mdata\u001b[49m\u001b[43m,\u001b[49m\n\u001b[0;32m    949\u001b[0m \u001b[43m    \u001b[49m\u001b[43mvariables\u001b[49m\u001b[38;5;241;43m=\u001b[39;49m\u001b[43mplotter\u001b[49m\u001b[38;5;241;43m.\u001b[39;49m\u001b[43mget_semantics\u001b[49m\u001b[43m(\u001b[49m\u001b[38;5;28;43mlocals\u001b[39;49m\u001b[43m(\u001b[49m\u001b[43m)\u001b[49m\u001b[43m)\u001b[49m\u001b[43m,\u001b[49m\n\u001b[0;32m    950\u001b[0m \u001b[43m    \u001b[49m\u001b[43mlegend\u001b[49m\u001b[38;5;241;43m=\u001b[39;49m\u001b[43mlegend\u001b[49m\u001b[43m,\u001b[49m\n\u001b[0;32m    951\u001b[0m \u001b[43m\u001b[49m\u001b[43m)\u001b[49m\n\u001b[0;32m    952\u001b[0m p\u001b[38;5;241m.\u001b[39mmap_hue(palette\u001b[38;5;241m=\u001b[39mpalette, order\u001b[38;5;241m=\u001b[39mhue_order, norm\u001b[38;5;241m=\u001b[39mhue_norm)\n\u001b[0;32m    953\u001b[0m p\u001b[38;5;241m.\u001b[39mmap_size(sizes\u001b[38;5;241m=\u001b[39msizes, order\u001b[38;5;241m=\u001b[39msize_order, norm\u001b[38;5;241m=\u001b[39msize_norm)\n",
      "File \u001b[1;32m~\\anaconda3\\lib\\site-packages\\seaborn\\relational.py:587\u001b[0m, in \u001b[0;36m_ScatterPlotter.__init__\u001b[1;34m(self, data, variables, x_bins, y_bins, estimator, ci, n_boot, alpha, x_jitter, y_jitter, legend)\u001b[0m\n\u001b[0;32m    571\u001b[0m \u001b[38;5;28;01mdef\u001b[39;00m \u001b[38;5;21m__init__\u001b[39m(\n\u001b[0;32m    572\u001b[0m     \u001b[38;5;28mself\u001b[39m, \u001b[38;5;241m*\u001b[39m,\n\u001b[0;32m    573\u001b[0m     data\u001b[38;5;241m=\u001b[39m\u001b[38;5;28;01mNone\u001b[39;00m, variables\u001b[38;5;241m=\u001b[39m{},\n\u001b[1;32m   (...)\u001b[0m\n\u001b[0;32m    581\u001b[0m     \u001b[38;5;66;03m# the kind of plot to draw, but for the time being we need to set\u001b[39;00m\n\u001b[0;32m    582\u001b[0m     \u001b[38;5;66;03m# this information so the SizeMapping can use it\u001b[39;00m\n\u001b[0;32m    583\u001b[0m     \u001b[38;5;28mself\u001b[39m\u001b[38;5;241m.\u001b[39m_default_size_range \u001b[38;5;241m=\u001b[39m (\n\u001b[0;32m    584\u001b[0m         np\u001b[38;5;241m.\u001b[39mr_[\u001b[38;5;241m.5\u001b[39m, \u001b[38;5;241m2\u001b[39m] \u001b[38;5;241m*\u001b[39m np\u001b[38;5;241m.\u001b[39msquare(mpl\u001b[38;5;241m.\u001b[39mrcParams[\u001b[38;5;124m\"\u001b[39m\u001b[38;5;124mlines.markersize\u001b[39m\u001b[38;5;124m\"\u001b[39m])\n\u001b[0;32m    585\u001b[0m     )\n\u001b[1;32m--> 587\u001b[0m     \u001b[38;5;28;43msuper\u001b[39;49m\u001b[43m(\u001b[49m\u001b[43m)\u001b[49m\u001b[38;5;241;43m.\u001b[39;49m\u001b[38;5;21;43m__init__\u001b[39;49m\u001b[43m(\u001b[49m\u001b[43mdata\u001b[49m\u001b[38;5;241;43m=\u001b[39;49m\u001b[43mdata\u001b[49m\u001b[43m,\u001b[49m\u001b[43m \u001b[49m\u001b[43mvariables\u001b[49m\u001b[38;5;241;43m=\u001b[39;49m\u001b[43mvariables\u001b[49m\u001b[43m)\u001b[49m\n\u001b[0;32m    589\u001b[0m     \u001b[38;5;28mself\u001b[39m\u001b[38;5;241m.\u001b[39malpha \u001b[38;5;241m=\u001b[39m alpha\n\u001b[0;32m    590\u001b[0m     \u001b[38;5;28mself\u001b[39m\u001b[38;5;241m.\u001b[39mlegend \u001b[38;5;241m=\u001b[39m legend\n",
      "File \u001b[1;32m~\\anaconda3\\lib\\site-packages\\seaborn\\_core.py:605\u001b[0m, in \u001b[0;36mVectorPlotter.__init__\u001b[1;34m(self, data, variables)\u001b[0m\n\u001b[0;32m    603\u001b[0m \u001b[38;5;28;01mdef\u001b[39;00m \u001b[38;5;21m__init__\u001b[39m(\u001b[38;5;28mself\u001b[39m, data\u001b[38;5;241m=\u001b[39m\u001b[38;5;28;01mNone\u001b[39;00m, variables\u001b[38;5;241m=\u001b[39m{}):\n\u001b[1;32m--> 605\u001b[0m     \u001b[38;5;28;43mself\u001b[39;49m\u001b[38;5;241;43m.\u001b[39;49m\u001b[43massign_variables\u001b[49m\u001b[43m(\u001b[49m\u001b[43mdata\u001b[49m\u001b[43m,\u001b[49m\u001b[43m \u001b[49m\u001b[43mvariables\u001b[49m\u001b[43m)\u001b[49m\n\u001b[0;32m    607\u001b[0m     \u001b[38;5;28;01mfor\u001b[39;00m var, \u001b[38;5;28mcls\u001b[39m \u001b[38;5;129;01min\u001b[39;00m \u001b[38;5;28mself\u001b[39m\u001b[38;5;241m.\u001b[39m_semantic_mappings\u001b[38;5;241m.\u001b[39mitems():\n\u001b[0;32m    608\u001b[0m \n\u001b[0;32m    609\u001b[0m         \u001b[38;5;66;03m# Create the mapping function\u001b[39;00m\n\u001b[0;32m    610\u001b[0m         map_func \u001b[38;5;241m=\u001b[39m partial(\u001b[38;5;28mcls\u001b[39m\u001b[38;5;241m.\u001b[39mmap, plotter\u001b[38;5;241m=\u001b[39m\u001b[38;5;28mself\u001b[39m)\n",
      "File \u001b[1;32m~\\anaconda3\\lib\\site-packages\\seaborn\\_core.py:663\u001b[0m, in \u001b[0;36mVectorPlotter.assign_variables\u001b[1;34m(self, data, variables)\u001b[0m\n\u001b[0;32m    661\u001b[0m \u001b[38;5;28;01mif\u001b[39;00m x \u001b[38;5;129;01mis\u001b[39;00m \u001b[38;5;28;01mNone\u001b[39;00m \u001b[38;5;129;01mand\u001b[39;00m y \u001b[38;5;129;01mis\u001b[39;00m \u001b[38;5;28;01mNone\u001b[39;00m:\n\u001b[0;32m    662\u001b[0m     \u001b[38;5;28mself\u001b[39m\u001b[38;5;241m.\u001b[39minput_format \u001b[38;5;241m=\u001b[39m \u001b[38;5;124m\"\u001b[39m\u001b[38;5;124mwide\u001b[39m\u001b[38;5;124m\"\u001b[39m\n\u001b[1;32m--> 663\u001b[0m     plot_data, variables \u001b[38;5;241m=\u001b[39m \u001b[38;5;28mself\u001b[39m\u001b[38;5;241m.\u001b[39m_assign_variables_wideform(\n\u001b[0;32m    664\u001b[0m         data, \u001b[38;5;241m*\u001b[39m\u001b[38;5;241m*\u001b[39mvariables,\n\u001b[0;32m    665\u001b[0m     )\n\u001b[0;32m    666\u001b[0m \u001b[38;5;28;01melse\u001b[39;00m:\n\u001b[0;32m    667\u001b[0m     \u001b[38;5;28mself\u001b[39m\u001b[38;5;241m.\u001b[39minput_format \u001b[38;5;241m=\u001b[39m \u001b[38;5;124m\"\u001b[39m\u001b[38;5;124mlong\u001b[39m\u001b[38;5;124m\"\u001b[39m\n",
      "File \u001b[1;32m~\\anaconda3\\lib\\site-packages\\seaborn\\_core.py:712\u001b[0m, in \u001b[0;36mVectorPlotter._assign_variables_wideform\u001b[1;34m(self, data, **kwargs)\u001b[0m\n\u001b[0;32m    710\u001b[0m     err \u001b[38;5;241m=\u001b[39m \u001b[38;5;124mf\u001b[39m\u001b[38;5;124m\"\u001b[39m\u001b[38;5;124mThe following variable\u001b[39m\u001b[38;5;132;01m{\u001b[39;00ms\u001b[38;5;132;01m}\u001b[39;00m\u001b[38;5;124m cannot be assigned with wide-form data: \u001b[39m\u001b[38;5;124m\"\u001b[39m\n\u001b[0;32m    711\u001b[0m     err \u001b[38;5;241m+\u001b[39m\u001b[38;5;241m=\u001b[39m \u001b[38;5;124m\"\u001b[39m\u001b[38;5;124m, \u001b[39m\u001b[38;5;124m\"\u001b[39m\u001b[38;5;241m.\u001b[39mjoin(\u001b[38;5;124mf\u001b[39m\u001b[38;5;124m\"\u001b[39m\u001b[38;5;124m`\u001b[39m\u001b[38;5;132;01m{\u001b[39;00mv\u001b[38;5;132;01m}\u001b[39;00m\u001b[38;5;124m`\u001b[39m\u001b[38;5;124m\"\u001b[39m \u001b[38;5;28;01mfor\u001b[39;00m v \u001b[38;5;129;01min\u001b[39;00m assigned)\n\u001b[1;32m--> 712\u001b[0m     \u001b[38;5;28;01mraise\u001b[39;00m \u001b[38;5;167;01mValueError\u001b[39;00m(err)\n\u001b[0;32m    714\u001b[0m \u001b[38;5;66;03m# Determine if the data object actually has any data in it\u001b[39;00m\n\u001b[0;32m    715\u001b[0m empty \u001b[38;5;241m=\u001b[39m data \u001b[38;5;129;01mis\u001b[39;00m \u001b[38;5;28;01mNone\u001b[39;00m \u001b[38;5;129;01mor\u001b[39;00m \u001b[38;5;129;01mnot\u001b[39;00m \u001b[38;5;28mlen\u001b[39m(data)\n",
      "\u001b[1;31mValueError\u001b[0m: The following variable cannot be assigned with wide-form data: `hue`"
     ]
    }
   ],
   "source": [
    "#making the scaterplot \n",
    "sns.relplot(X='% Chng ',Y='Volume (lacs)',hue='symbol',data=nifty)"
   ]
  },
  {
   "cell_type": "code",
   "execution_count": 59,
   "id": "f32363ee",
   "metadata": {},
   "outputs": [
    {
     "name": "stderr",
     "output_type": "stream",
     "text": [
      "C:\\Users\\user\\anaconda3\\lib\\site-packages\\seaborn\\distributions.py:2619: FutureWarning: `distplot` is a deprecated function and will be removed in a future version. Please adapt your code to use either `displot` (a figure-level function with similar flexibility) or `histplot` (an axes-level function for histograms).\n",
      "  warnings.warn(msg, FutureWarning)\n"
     ]
    },
    {
     "data": {
      "text/plain": [
       "<AxesSubplot:xlabel='% Chng', ylabel='Density'>"
      ]
     },
     "execution_count": 59,
     "metadata": {},
     "output_type": "execute_result"
    },
    {
     "data": {
      "image/png": "[encoded data removed]",
      "text/plain": [
       "<Figure size 432x288 with 1 Axes>"
      ]
     },
     "metadata": {
      "needs_background": "light"
     },
     "output_type": "display_data"
    }
   ],
   "source": [
    "sns.distplot(nifty['% Chng'] )"
   ]
  },
  {
   "cell_type": "code",
   "execution_count": 51,
   "id": "ee5c748a",
   "metadata": {},
   "outputs": [
    {
     "name": "stderr",
     "output_type": "stream",
     "text": [
      "C:\\Users\\user\\anaconda3\\lib\\site-packages\\seaborn\\distributions.py:2619: FutureWarning: `distplot` is a deprecated function and will be removed in a future version. Please adapt your code to use either `displot` (a figure-level function with similar flexibility) or `histplot` (an axes-level function for histograms).\n",
      "  warnings.warn(msg, FutureWarning)\n"
     ]
    },
    {
     "data": {
      "text/plain": [
       "<AxesSubplot:xlabel='365 d % chng', ylabel='Density'>"
      ]
     },
     "execution_count": 51,
     "metadata": {},
     "output_type": "execute_result"
    },
    {
     "data": {
      "image/png": "[encoded data removed]",
      "text/plain": [
       "<Figure size 432x288 with 1 Axes>"
      ]
     },
     "metadata": {
      "needs_background": "light"
     },
     "output_type": "display_data"
    }
   ],
   "source": [
    "sns.distplot(nifty['365 d % chng'])"
   ]
  },
  {
   "cell_type": "code",
   "execution_count": 60,
   "id": "9e53683d",
   "metadata": {},
   "outputs": [
    {
     "name": "stderr",
     "output_type": "stream",
     "text": [
      "C:\\Users\\user\\anaconda3\\lib\\site-packages\\seaborn\\distributions.py:2619: FutureWarning: `distplot` is a deprecated function and will be removed in a future version. Please adapt your code to use either `displot` (a figure-level function with similar flexibility) or `histplot` (an axes-level function for histograms).\n",
      "  warnings.warn(msg, FutureWarning)\n"
     ]
    },
    {
     "data": {
      "text/plain": [
       "<AxesSubplot:xlabel='Volume (lacs)', ylabel='Density'>"
      ]
     },
     "execution_count": 60,
     "metadata": {},
     "output_type": "execute_result"
    },
    {
     "data": {
      "image/png": "[encoded data removed]",
      "text/plain": [
       "<Figure size 432x288 with 1 Axes>"
      ]
     },
     "metadata": {
      "needs_background": "light"
     },
     "output_type": "display_data"
    }
   ],
   "source": [
    "sns.distplot(nifty['Volume (lacs)'])"
   ]
  }
 ],
 "metadata": {
  "kernelspec": {
   "display_name": "Python 3 (ipykernel)",
   "language": "python",
   "name": "python3"
  },
  "language_info": {
   "codemirror_mode": {
    "name": "ipython",
    "version": 3
   },
   "file_extension": ".py",
   "mimetype": "text/x-python",
   "name": "python",
   "nbconvert_exporter": "python",
   "pygments_lexer": "ipython3",
   "version": "3.9.12"
  }
 },
 "nbformat": 4,
 "nbformat_minor": 5
}
